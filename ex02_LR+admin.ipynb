{
  "nbformat": 4,
  "nbformat_minor": 0,
  "metadata": {
    "colab": {
      "provenance": [],
      "mount_file_id": "1msWF0C6mCJ5CVUeqvA0L2r52kS6y4TMq",
      "authorship_tag": "ABX9TyPD5ko3k3jzkCu0/mIUBWPN",
      "include_colab_link": true
    },
    "kernelspec": {
      "name": "python3",
      "display_name": "Python 3"
    },
    "language_info": {
      "name": "python"
    }
  },
  "cells": [
    {
      "cell_type": "markdown",
      "metadata": {
        "id": "view-in-github",
        "colab_type": "text"
      },
      "source": [
        "<a href=\"https://colab.research.google.com/github/LaVva416/com2022/blob/main/ex02_LR%2Badmin.ipynb\" target=\"_parent\"><img src=\"https://colab.research.google.com/assets/colab-badge.svg\" alt=\"Open In Colab\"/></a>"
      ]
    },
    {
      "cell_type": "markdown",
      "source": [
        "#1. 로지스틱 회귀\n",
        "1) 합격여부 데이터 읽기  \n",
        "2) 그래프 그리기  \n",
        "3) 학습  \n",
        "4) decision boundary"
      ],
      "metadata": {
        "id": "537HxoJzNfXw"
      }
    },
    {
      "cell_type": "markdown",
      "source": [
        "##1) 합격여부 데이터 읽기"
      ],
      "metadata": {
        "id": "64j-NlefN1gF"
      }
    },
    {
      "cell_type": "code",
      "execution_count": 9,
      "metadata": {
        "colab": {
          "base_uri": "https://localhost:8080/"
        },
        "id": "MHrsJk7NNb-S",
        "outputId": "ed6002b2-08ce-49c8-fc39-d6fc43fd91e0"
      },
      "outputs": [
        {
          "output_type": "stream",
          "name": "stdout",
          "text": [
            "          ex1        ex2  Admitted\n",
            "0   34.623660  78.024693         0\n",
            "1   30.286711  43.894998         0\n",
            "2   35.847409  72.902198         0\n",
            "3   60.182599  86.308552         1\n",
            "4   79.032736  75.344376         1\n",
            "..        ...        ...       ...\n",
            "95  83.489163  48.380286         1\n",
            "96  42.261701  87.103851         1\n",
            "97  99.315009  68.775409         1\n",
            "98  55.340018  64.931938         1\n",
            "99  74.775893  89.529813         1\n",
            "\n",
            "[100 rows x 3 columns]\n"
          ]
        }
      ],
      "source": [
        "import numpy as np\n",
        "\n",
        "#(시험1점수), (시험2점수), (합격여부)\n",
        "#Ng, Machine Learning, Coursera, ml-ex2 중\n",
        "import pandas as pd\n",
        "data = pd.read_csv('/content/drive/MyDrive/2022_전산학_colab/admit.txt', names=['ex1', 'ex2', 'Admitted'])\n",
        "print(data)\n",
        "\n",
        "X = np.c_[data['ex1'], data['ex2']] #점수\n",
        "y = data['Admitted']  #합격여부(1: admitted, 0: not admitted)\n",
        "m = len(data) #정보 개수 (행 개수)"
      ]
    },
    {
      "cell_type": "code",
      "source": [
        "from google.colab import drive\n",
        "drive.mount('/content/drive')"
      ],
      "metadata": {
        "colab": {
          "base_uri": "https://localhost:8080/"
        },
        "id": "Mr92f7MuPKF3",
        "outputId": "066a7360-3527-48e3-8deb-fa4a804295ef"
      },
      "execution_count": 7,
      "outputs": [
        {
          "output_type": "stream",
          "name": "stdout",
          "text": [
            "Drive already mounted at /content/drive; to attempt to forcibly remount, call drive.mount(\"/content/drive\", force_remount=True).\n"
          ]
        }
      ]
    },
    {
      "cell_type": "code",
      "source": [
        "#numpy array 형태로 변환, 형태 변환(m) -> (m, 1)\n",
        "#X = (np.array(X)).reshape(m, 2)\n",
        "#y = (np.array(y)).reshape(m, 1)\n",
        "print(X.shape, y.shape)"
      ],
      "metadata": {
        "colab": {
          "base_uri": "https://localhost:8080/"
        },
        "id": "w8mxBmGYREjk",
        "outputId": "3143d326-8689-48e5-a8b1-904aef9dea81"
      },
      "execution_count": 10,
      "outputs": [
        {
          "output_type": "stream",
          "name": "stdout",
          "text": [
            "(100, 2) (100,)\n"
          ]
        }
      ]
    },
    {
      "cell_type": "markdown",
      "source": [
        "##2) 그래프 그리기"
      ],
      "metadata": {
        "id": "W3l5z58zRwWc"
      }
    },
    {
      "cell_type": "code",
      "source": [
        "#합격, 불합격 데이터 인덱스 찾기\n",
        "pos = []\n",
        "neg = []\n",
        "\n",
        "for (i, val) in enumerate(y):\n",
        "  if val == 1:\n",
        "    pos.append(i)\n",
        "  else:\n",
        "    neg.append(i)\n",
        "print(pos)\n",
        "print(neg)"
      ],
      "metadata": {
        "colab": {
          "base_uri": "https://localhost:8080/"
        },
        "id": "liuAx3rPRuQg",
        "outputId": "00aed24c-99d2-4dc3-967f-b97c7e507588"
      },
      "execution_count": 13,
      "outputs": [
        {
          "output_type": "stream",
          "name": "stdout",
          "text": [
            "[3, 4, 6, 7, 8, 9, 12, 13, 15, 16, 18, 19, 21, 24, 25, 26, 30, 31, 33, 37, 40, 42, 46, 47, 48, 49, 50, 51, 52, 56, 58, 59, 60, 66, 68, 69, 71, 72, 73, 74, 75, 76, 77, 80, 81, 82, 83, 84, 85, 87, 88, 90, 91, 93, 94, 95, 96, 97, 98, 99]\n",
            "[0, 1, 2, 5, 10, 11, 14, 17, 20, 22, 23, 27, 28, 29, 32, 34, 35, 36, 38, 39, 41, 43, 44, 45, 53, 54, 55, 57, 61, 62, 63, 64, 65, 67, 70, 78, 79, 86, 89, 92]\n"
          ]
        }
      ]
    },
    {
      "cell_type": "code",
      "source": [
        "import matplotlib.pyplot as plt\n",
        "plt.plot(X[pos,0].reshape(-1), X[pos,1].reshape(-1), 'b+', label='Admitted')  # X[:,1].reshape(-1): 한 줄로 피기, (m,) -> (m)\n",
        "plt.plot(X[neg,0].reshape(-1), X[neg,1].reshape(-1), 'ro', label='Not admitted')\n",
        "plt.xlabel(\"Exam 1 score\")  \n",
        "plt.ylabel(\"Exam 2 score\")\n",
        "plt.legend(loc='upper right')\n",
        "plt.show()"
      ],
      "metadata": {
        "colab": {
          "base_uri": "https://localhost:8080/",
          "height": 279
        },
        "id": "uqO0MFrrSHzs",
        "outputId": "0d1492d7-54f6-4f0d-ebab-7725b30a6229"
      },
      "execution_count": 19,
      "outputs": [
        {
          "output_type": "display_data",
          "data": {
            "text/plain": [
              "<Figure size 432x288 with 1 Axes>"
            ],
            "image/png": "[encoded data removed]"
          },
          "metadata": {
            "needs_background": "light"
          }
        }
      ]
    },
    {
      "cell_type": "markdown",
      "source": [
        "##3) 학습"
      ],
      "metadata": {
        "id": "DWvDUqqrRv05"
      }
    },
    {
      "cell_type": "code",
      "source": [
        "from sklearn.linear_model import LogisticRegression\n",
        "\n",
        "log_reg = LogisticRegression(solver='liblinear', C=10) \n",
        "log_reg.fit(X, y)"
      ],
      "metadata": {
        "colab": {
          "base_uri": "https://localhost:8080/"
        },
        "id": "gX3gJHiOTCpr",
        "outputId": "602e0843-9806-421d-eebe-fea3c8d14be8"
      },
      "execution_count": 16,
      "outputs": [
        {
          "output_type": "execute_result",
          "data": {
            "text/plain": [
              "LogisticRegression(C=10, solver='liblinear')"
            ]
          },
          "metadata": {},
          "execution_count": 16
        }
      ]
    },
    {
      "cell_type": "code",
      "source": [
        "#exam1 30점, exam2 70점 맞은 학생은 합격/불합격?\n",
        "#exam  50점, exam2 90점\n",
        "log_reg.predict([[30,70],\n",
        "                 [50,90]])"
      ],
      "metadata": {
        "colab": {
          "base_uri": "https://localhost:8080/"
        },
        "id": "iYWDBkUVTUBG",
        "outputId": "2ee025c2-c6e2-43d3-83c6-9411084a1375"
      },
      "execution_count": 18,
      "outputs": [
        {
          "output_type": "execute_result",
          "data": {
            "text/plain": [
              "array([0, 1])"
            ]
          },
          "metadata": {},
          "execution_count": 18
        }
      ]
    },
    {
      "cell_type": "markdown",
      "source": [
        "##4) decision boundary"
      ],
      "metadata": {
        "id": "DUUeGfuZTv9u"
      }
    },
    {
      "cell_type": "code",
      "source": [
        "#plot the decision boundary. For that, we will assign a color th each\n",
        "#point in the mesg [x_min, x_mas]x[y_min, y_max].\n",
        "x_min, x_max = X[:, 0].min(), X[:, 0].max()\n",
        "y_min, y_max = X[:, 1].min(), X[:, 1].max()\n",
        "h = 2  #step size in the mesh\n",
        "xx, yy = np.meshgrid(np.arange(x_min, x_max, h), np.arange(y_min, y_max, h))\n",
        "Z = log_reg.predict(np.c_[xx.ravel(), yy.ravel()])\n",
        "\n",
        "#put the result into a color plot\n",
        "Z = Z.reshape(xx.shape)\n",
        "plt.figure(1)\n",
        "plt.pcolormesh(xx, yy, Z, cmap=plt.cm.Paired)\n",
        "\n",
        "#plot also the training points\n",
        "plt.plot(X[pos,0].reshape(-1), X[pos,1].reshape(-1), 'b+', label='Passed')\n",
        "plt.plot(X[neg,0].reshape(-1), X[neg,1].reshape(-1), 'ro', label='Not Passed')\n",
        "plt.xlabel(\"Microship Test 1\")\n",
        "plt.ylabel(\"Microship Test 2\")\n",
        "plt.legend(loc='upper right')\n",
        "\n",
        "plt.xlim(xx.min(), xx.max())\n",
        "plt.ylim(yy.min(), yy.max())\n",
        "plt.xticks(())\n",
        "plt.yticks(())\n",
        "\n",
        "plt.show()"
      ],
      "metadata": {
        "colab": {
          "base_uri": "https://localhost:8080/",
          "height": 262
        },
        "id": "qkSwTBNRTrw-",
        "outputId": "42442ba2-8922-4412-8f2f-8b80c270ff78"
      },
      "execution_count": 29,
      "outputs": [
        {
          "output_type": "display_data",
          "data": {
            "text/plain": [
              "<Figure size 432x288 with 1 Axes>"
            ],
            "image/png": "[encoded data removed]"
          },
          "metadata": {}
        }
      ]
    },
    {
      "cell_type": "markdown",
      "source": [
        "#2. 로지스틱 회귀 + 정규화\n",
        "1) 합격여부 데이터 읽기  \n",
        "2) 그래프 그리기  \n",
        "3) 학습  \n",
        "4) decision boundary"
      ],
      "metadata": {
        "id": "XAdlI7XzXeRF"
      }
    },
    {
      "cell_type": "markdown",
      "source": [
        "##1) 불량여부 데이터 읽기"
      ],
      "metadata": {
        "id": "4dH4GmIbXsI7"
      }
    },
    {
      "cell_type": "code",
      "source": [
        "import numpy as np\n",
        "\n",
        "#(test1), (test2), (Quality Assurance 통과여부)\n",
        "#Ng, Machine Learning, Coursera, ml-ex2 중\n",
        "import pandas as pd\n",
        "data = pd.read_csv('/content/drive/MyDrive/2022_전산학_colab/qa.txt', names=['t1', 't2', 'Passed'])\n",
        "print(data)\n",
        "\n",
        "X = np.c_[data['t1'], data['t2']] #점수\n",
        "y = data['Passed']  #합격여부(1: passed, 0: failed)\n",
        "m = len(data) #정보 개수 (행 개수)"
      ],
      "metadata": {
        "colab": {
          "base_uri": "https://localhost:8080/"
        },
        "id": "XRJTGz02V1oA",
        "outputId": "dd919239-baf0-48aa-9e32-988ad1b34e2b"
      },
      "execution_count": 31,
      "outputs": [
        {
          "output_type": "stream",
          "name": "stdout",
          "text": [
            "           t1        t2  Passed\n",
            "0    0.051267  0.699560       1\n",
            "1   -0.092742  0.684940       1\n",
            "2   -0.213710  0.692250       1\n",
            "3   -0.375000  0.502190       1\n",
            "4   -0.513250  0.465640       1\n",
            "..        ...       ...     ...\n",
            "113 -0.720620  0.538740       0\n",
            "114 -0.593890  0.494880       0\n",
            "115 -0.484450  0.999270       0\n",
            "116 -0.006336  0.999270       0\n",
            "117  0.632650 -0.030612       0\n",
            "\n",
            "[118 rows x 3 columns]\n"
          ]
        }
      ]
    },
    {
      "cell_type": "markdown",
      "source": [
        "##2) 그래프 그리기"
      ],
      "metadata": {
        "id": "cSwYk2maYeHj"
      }
    },
    {
      "cell_type": "code",
      "source": [
        "#passed, failed 데이터 인덱스 찾기\n",
        "pos = []\n",
        "neg = []\n",
        "\n",
        "for (i, val) in enumerate(y):\n",
        "  if val == 1:\n",
        "    pos.append(i)\n",
        "  else:\n",
        "    neg.append(i)\n",
        "print(pos)\n",
        "print(neg)"
      ],
      "metadata": {
        "colab": {
          "base_uri": "https://localhost:8080/"
        },
        "id": "c-GChqMAYWe0",
        "outputId": "90c9ded5-0dc3-4465-b9d1-b96da8abd4e6"
      },
      "execution_count": 32,
      "outputs": [
        {
          "output_type": "stream",
          "name": "stdout",
          "text": [
            "[0, 1, 2, 3, 4, 5, 6, 7, 8, 9, 10, 11, 12, 13, 14, 15, 16, 17, 18, 19, 20, 21, 22, 23, 24, 25, 26, 27, 28, 29, 30, 31, 32, 33, 34, 35, 36, 37, 38, 39, 40, 41, 42, 43, 44, 45, 46, 47, 48, 49, 50, 51, 52, 53, 54, 55, 56, 57]\n",
            "[58, 59, 60, 61, 62, 63, 64, 65, 66, 67, 68, 69, 70, 71, 72, 73, 74, 75, 76, 77, 78, 79, 80, 81, 82, 83, 84, 85, 86, 87, 88, 89, 90, 91, 92, 93, 94, 95, 96, 97, 98, 99, 100, 101, 102, 103, 104, 105, 106, 107, 108, 109, 110, 111, 112, 113, 114, 115, 116, 117]\n"
          ]
        }
      ]
    },
    {
      "cell_type": "code",
      "source": [
        "import matplotlib.pyplot as plt\n",
        "plt.plot(X[pos,0].reshape(-1), X[pos,1].reshape(-1), 'b+', label='Pssed')   \n",
        "plt.plot(X[neg,0].reshape(-1), X[neg,1].reshape(-1), 'ro', label='Failed')\n",
        "plt.xlabel(\"Microship Test 1\")  \n",
        "plt.ylabel(\"Microship Test 2\")\n",
        "plt.legend(loc='upper right')\n",
        "plt.show()"
      ],
      "metadata": {
        "colab": {
          "base_uri": "https://localhost:8080/",
          "height": 279
        },
        "id": "6cfsXxCoYmnK",
        "outputId": "1ea2531c-5477-48fa-cb9c-7f63c9fa02d9"
      },
      "execution_count": 33,
      "outputs": [
        {
          "output_type": "display_data",
          "data": {
            "text/plain": [
              "<Figure size 432x288 with 1 Axes>"
            ],
            "image/png": "[encoded data removed]"
          },
          "metadata": {
            "needs_background": "light"
          }
        }
      ]
    },
    {
      "cell_type": "markdown",
      "source": [
        "##3) 학습"
      ],
      "metadata": {
        "id": "CYWZ8IN5Y9yI"
      }
    },
    {
      "cell_type": "code",
      "source": [
        "#X_ploy = mapFeature(X[:,0], X[:,1])\n",
        "from sklearn.preprocessing import PolynomialFeatures\n",
        "degree = 6\n",
        "poly_features = PolynomialFeatures(degree=degree, include_bias=False)\n",
        "X_poly = poly_features.fit_transform(X)\n",
        "\n",
        "print(X[0])\n",
        "print(X_poly[0].shape)"
      ],
      "metadata": {
        "colab": {
          "base_uri": "https://localhost:8080/"
        },
        "id": "cGTQjvkgY8Lv",
        "outputId": "52d50230-589b-4fa2-f29c-b3c26224db0a"
      },
      "execution_count": 39,
      "outputs": [
        {
          "output_type": "stream",
          "name": "stdout",
          "text": [
            "[0.051267 0.69956 ]\n",
            "(27,)\n"
          ]
        }
      ]
    },
    {
      "cell_type": "code",
      "source": [
        "from sklearn.linear_model import LogisticRegression\n",
        "\n",
        "log_reg = LogisticRegression(penalty='l2', solver='liblinear', C=1e-1)\n",
        "log_reg.fit(X_poly, y)"
      ],
      "metadata": {
        "colab": {
          "base_uri": "https://localhost:8080/"
        },
        "id": "PQOs42BiZkie",
        "outputId": "d1f5cc9b-b221-48f3-e963-9e8e24645e3b"
      },
      "execution_count": 45,
      "outputs": [
        {
          "output_type": "execute_result",
          "data": {
            "text/plain": [
              "LogisticRegression(C=0.1, solver='liblinear')"
            ]
          },
          "metadata": {},
          "execution_count": 45
        }
      ]
    },
    {
      "cell_type": "markdown",
      "source": [
        "##4) decision boundary"
      ],
      "metadata": {
        "id": "pKzlI0f3bgEO"
      }
    },
    {
      "cell_type": "code",
      "source": [
        "u = np.linspace(-1, 1.5, 300)\n",
        "v = np.linspace(-1, 1.5, 300)\n",
        "z = np.zeros((len(u), len(v)))\n",
        "\n",
        "for i in range(len(u)):\n",
        "    a=[]\n",
        "    for j in range(len(v)):\n",
        "        a.append(np.array([u[i], v[j]]))\n",
        "\n",
        "    my_data = poly_features.fit_transform( a )\n",
        "    z[i] = log_reg.predict( my_data )\n",
        "\n",
        "plt.contour(u,v,z,0)\n",
        "\n",
        "plt.plot(X[pos,0].reshape(-1), X[pos,1].reshape(-1), 'b+', label='Passed')\n",
        "plt.plot(X[neg,0].reshape(-1), X[neg,1].reshape(-1), 'ro', label='Failed')\n",
        "plt.xlabel(\"Microship Test 1\")\n",
        "plt.ylabel(\"Microship Test 2\")\n",
        "plt.legend(loc='upper right')\n",
        "plt.show()"
      ],
      "metadata": {
        "colab": {
          "base_uri": "https://localhost:8080/",
          "height": 319
        },
        "id": "Ols342LHajGw",
        "outputId": "c624a7f6-896a-4a99-837f-97e0eae7a5ef"
      },
      "execution_count": 54,
      "outputs": [
        {
          "output_type": "stream",
          "name": "stderr",
          "text": [
            "/usr/local/lib/python3.7/dist-packages/ipykernel_launcher.py:13: UserWarning: No contour levels were found within the data range.\n",
            "  del sys.path[0]\n"
          ]
        },
        {
          "output_type": "display_data",
          "data": {
            "text/plain": [
              "<Figure size 432x288 with 1 Axes>"
            ],
            "image/png": "[encoded data removed]"
          },
          "metadata": {
            "needs_background": "light"
          }
        }
      ]
    },
    {
      "cell_type": "markdown",
      "source": [
        "##5) 로지스틱 회귀의 성능 측정법"
      ],
      "metadata": {
        "id": "RHRKgH_aeNGe"
      }
    },
    {
      "cell_type": "code",
      "source": [
        "# 1. y값 prediction\n",
        "\"\"\"편의상 train 데이터에 대해 predict함. 원래는 validation, test 데이터에 대해 해야함\"\"\"\n",
        "y_pred=log_reg.predict(X_poly)\n",
        "print(y_pred)\n",
        "\n",
        "# 2. confusion matrix\n",
        "from sklearn.metrics import confusion_matrix\n",
        "conf_mat = confusion_matrix(y, y_pred)\n",
        "print(conf_mat)\n",
        "plt.matshow(conf_mat, cmap=plt.cm.gray)\n",
        "plt.show()\n",
        "\n",
        "# 3. precision & recall\n",
        "from sklearn.metrics import precision_score, recall_score\n",
        "print(\"precision_score: \", precision_score(y, y_pred))\n",
        "print(\"recall_score: \", recall_score(y, y_pred))\n",
        "\n",
        "# 4. F1 score\n",
        "from sklearn.metrics import f1_score\n",
        "print(\"F1_scrore: \", f1_score(y, y_pred))"
      ],
      "metadata": {
        "colab": {
          "base_uri": "https://localhost:8080/",
          "height": 438
        },
        "id": "IHyolhVcciJh",
        "outputId": "dfc42f81-29df-476e-9cad-9001f8eedc51"
      },
      "execution_count": 55,
      "outputs": [
        {
          "output_type": "stream",
          "name": "stdout",
          "text": [
            "[1 1 1 1 1 1 1 1 1 1 0 0 0 0 0 1 1 0 1 1 1 1 1 1 1 1 0 0 1 0 0 0 1 1 1 1 1\n",
            " 1 1 1 1 1 0 1 0 1 0 1 0 0 1 1 1 1 1 1 1 1 0 0 1 0 0 0 0 0 0 0 0 0 0 0 0 0\n",
            " 0 0 1 0 0 0 1 1 1 1 0 0 0 0 1 0 0 0 0 0 0 0 0 0 0 0 0 0 1 0 1 1 1 1 1 0 0\n",
            " 0 0 0 1 0 0 0]\n",
            "[[46 14]\n",
            " [16 42]]\n"
          ]
        },
        {
          "output_type": "display_data",
          "data": {
            "text/plain": [
              "<Figure size 288x288 with 1 Axes>"
            ],
            "image/png": "[encoded data removed]"
          },
          "metadata": {
            "needs_background": "light"
          }
        },
        {
          "output_type": "stream",
          "name": "stdout",
          "text": [
            "precision_score:  0.75\n",
            "recall_score:  0.7241379310344828\n",
            "F1_scrore:  0.736842105263158\n"
          ]
        }
      ]
    },
    {
      "cell_type": "code",
      "source": [
        "# y probability\n",
        "y_scores = log_reg.decision_function(X_poly)\n",
        "print(y_scores)"
      ],
      "metadata": {
        "colab": {
          "base_uri": "https://localhost:8080/"
        },
        "id": "gUo-Q-wmf3b8",
        "outputId": "756a0cb2-bde0-405a-d092-20713c22f98e"
      },
      "execution_count": 58,
      "outputs": [
        {
          "output_type": "stream",
          "name": "stdout",
          "text": [
            "[ 0.05721229  0.09031196  0.08026682  0.17053879  0.12428068  0.12804255\n",
            "  0.15762518  0.13103297  0.10611841  0.05698076 -0.02303367 -0.08009722\n",
            " -0.08781319 -0.21166892 -0.03087887  0.07336408  0.15980733 -0.10426686\n",
            "  0.07493999  0.06340612  0.01223171  0.06483144  0.05088184  0.06692669\n",
            "  0.09972027  0.0039081  -0.04642661 -0.2288355   0.19104147 -0.04422837\n",
            " -0.48582731 -0.06976624  0.12417891  0.20140773  0.20043654  0.18558606\n",
            "  0.14110412  0.17216763  0.17914447  0.08748364  0.12938355  0.05788662\n",
            " -0.07524136  0.10212642 -0.03704723  0.00922225 -0.25399059  0.14984191\n",
            " -0.08845407 -0.03267549  0.14628497  0.23248708  0.18795328  0.2312281\n",
            "  0.22583701  0.16968366  0.19363608  0.13978443 -0.47339273 -0.11374384\n",
            "  0.05569444 -0.27770043 -0.3643466  -0.1778768  -0.37102315 -0.73725405\n",
            " -0.39571626 -0.78450463 -0.69486198 -0.46788667 -0.5786725  -0.48962111\n",
            " -0.49382144 -0.4376614  -0.27751262 -0.10992105  0.0029229  -0.01829043\n",
            " -0.13858015 -0.09891484  0.02217236  0.07687025  0.01955373  0.08309043\n",
            " -0.16216551 -0.02832433 -0.06081424 -0.14156364  0.02597511 -0.3686108\n",
            " -0.37972945 -0.04142063 -0.06922482 -0.37741015 -0.59668064 -1.18241061\n",
            " -1.23462178 -0.30852966 -0.7849646  -0.68557665 -0.32835161 -1.29145658\n",
            "  0.02247742 -0.04331678  0.1060566   0.0247194   0.08914681  0.16969841\n",
            "  0.02081615 -0.06428006 -0.09046135 -0.08798572 -0.16530824 -0.0636558\n",
            "  0.0667766  -0.68509242 -0.64525137 -0.0478308 ]\n"
          ]
        }
      ]
    },
    {
      "cell_type": "code",
      "source": [
        "# 5. ROC curve\n",
        "from sklearn.metrics import roc_curve\n",
        "fpr, tpr, thresholds = roc_curve(y, y_scores)\n",
        "\n",
        "def plot_roc_curve(fpr, tpr, label=None):\n",
        "  plt.plot(fpr, tpr, linewidth=2, label=label)\n",
        "  plt.plot([0,1], [0,1], 'k--')\n",
        "  plt.axis([0,1,0,1])\n",
        "  plt.xlabel('FPR')\n",
        "  plt.ylabel('TPR')\n",
        "plot_roc_curve(fpr, tpr)\n",
        "plt.show()\n",
        "\n",
        "# 6. AUC\n",
        "from sklearn.metrics import roc_auc_score\n",
        "print(\"roc_auc_score: \", roc_auc_score(y, y_scores))"
      ],
      "metadata": {
        "colab": {
          "base_uri": "https://localhost:8080/",
          "height": 301
        },
        "id": "dFjkq5ePgE3e",
        "outputId": "8ddd7ac8-cb80-4bd7-978b-73ead4f3e972"
      },
      "execution_count": 61,
      "outputs": [
        {
          "output_type": "display_data",
          "data": {
            "text/plain": [
              "<Figure size 432x288 with 1 Axes>"
            ],
            "image/png": "[encoded data removed]"
          },
          "metadata": {
            "needs_background": "light"
          }
        },
        {
          "output_type": "stream",
          "name": "stdout",
          "text": [
            "roc_auc_score:  0.8554597701149426\n"
          ]
        }
      ]
    }
  ]
}