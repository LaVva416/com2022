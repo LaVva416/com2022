{
  "cells": [
    {
      "cell_type": "markdown",
      "metadata": {
        "id": "view-in-github",
        "colab_type": "text"
      },
      "source": [
        "<a href=\"https://colab.research.google.com/github/LaVva416/com2022/blob/main/LinearRegresion%2Bhouse_price.ipynb\" target=\"_parent\"><img src=\"https://colab.research.google.com/assets/colab-badge.svg\" alt=\"Open In Colab\"/></a>"
      ]
    },
    {
      "cell_type": "markdown",
      "source": [
        "##1. 집 값 데이터 읽기"
      ],
      "metadata": {
        "id": "HhUv-6Wh9Btl"
      }
    },
    {
      "cell_type": "code",
      "execution_count": null,
      "metadata": {
        "colab": {
          "base_uri": "https://localhost:8080/"
        },
        "id": "iU9_xl2455IS",
        "outputId": "57360911-2eb5-4349-f8f0-b3928af08390"
      },
      "outputs": [
        {
          "output_type": "stream",
          "name": "stdout",
          "text": [
            "         size  price\n",
            "0   27.575758   6.10\n",
            "1   26.969697   3.80\n",
            "2   36.969697   5.70\n",
            "3   13.636364   1.80\n",
            "4   56.969697  13.00\n",
            "5   29.090909   6.20\n",
            "6   80.303030  12.00\n",
            "7   51.515152   9.00\n",
            "8   34.848485   5.30\n",
            "9   18.484848   1.70\n",
            "10  30.909091   3.80\n",
            "11  33.939394   5.80\n",
            "12  26.060606   3.70\n",
            "13  32.424242   8.50\n",
            "14  32.121212   4.70\n",
            "15  31.818182   4.70\n",
            "16  30.909091   6.00\n",
            "17  36.969697   5.00\n",
            "18  32.424242   6.50\n",
            "19  33.030303   6.50\n",
            "20  27.575758   7.00\n",
            "21  20.000000   2.70\n",
            "22  25.454545   8.60\n",
            "23  31.818182   6.20\n",
            "24  32.424242   5.80\n",
            "25  32.424242   8.19\n",
            "26  28.484848   5.09\n",
            "27  32.424242   8.00\n",
            "28  37.272727   6.10\n",
            "29  25.757576   5.90\n",
            "30  23.333333   6.00\n",
            "31  31.515152   7.20\n",
            "32  33.333333   8.50\n",
            "33  19.393939   3.90\n",
            "34  33.030303   8.50\n",
            "35  20.909091   2.50\n",
            "36  33.636364   5.00\n",
            "37  21.212121   2.35\n",
            "38  30.606061   3.30\n",
            "39  30.909091   4.50\n",
            "40  29.393939   3.50\n",
            "41  57.878788   6.30\n",
            "42  30.909091   4.09\n",
            "43  18.787879   2.20\n",
            "44  28.181818   5.20\n",
            "45  30.606061   3.30\n",
            "46  21.212121   2.35\n",
            "47  32.727273  10.00\n",
            "48  28.787879   4.40\n",
            "49  47.575758   7.30\n",
            "50  32.121212   4.90\n",
            "51  14.848485   3.72\n"
          ]
        }
      ],
      "source": [
        "import numpy as np\n",
        "\n",
        "#(집 크기(평)), (가격(억원))\n",
        "# 학교근처(홍은동,, 홍제동, 구기동, 신영동, 평창동, 녹번동)\n",
        "# https://new.land.naver.com/comp|exes?ms=\n",
        "import pandas as pd\n",
        "data = pd.read_csv('house_price.txt', names=['size', 'price'])\n",
        "print(data)\n",
        "\n",
        "X = data['size']  #제곱미터(평)\n",
        "y = data['price'] #억원\n",
        "m = len(data)     #정보 개수"
      ]
    },
    {
      "cell_type": "code",
      "source": [
        "# numpy array 형태로 변환, 형태 변환(m) -> (m,1)\n",
        "X = (np.array(X)).reshape(m,1)\n",
        "y = (np.array(y)).reshape(m,1)\n",
        "print(X.shape, y.shape)"
      ],
      "metadata": {
        "colab": {
          "base_uri": "https://localhost:8080/"
        },
        "id": "rlbM4f2y7Bff",
        "outputId": "94b2de3c-dcfb-4d1b-b2d6-cb6abc464b59"
      },
      "execution_count": null,
      "outputs": [
        {
          "output_type": "stream",
          "name": "stdout",
          "text": [
            "(52, 1) (52, 1)\n"
          ]
        }
      ]
    },
    {
      "cell_type": "markdown",
      "source": [
        "##2. 그래프 그리기"
      ],
      "metadata": {
        "id": "zGUX-knA82KW"
      }
    },
    {
      "cell_type": "code",
      "source": [
        "import matplotlib.pyplot as plt\n",
        "plt.plot(X, y, 'b.')\n",
        "plt.xlabel(\"Size of a house in Pyoeng\") #집 크기(평)\n",
        "plt.ylabel(\"Price in uck-won\")          #매매가(억원)\n",
        "plt.show()"
      ],
      "metadata": {
        "colab": {
          "base_uri": "https://localhost:8080/",
          "height": 279
        },
        "id": "8C06XoFo81lI",
        "outputId": "9a5f7203-acaf-4275-da98-4d68a66d0874"
      },
      "execution_count": null,
      "outputs": [
        {
          "output_type": "display_data",
          "data": {
            "text/plain": [
              "<Figure size 432x288 with 1 Axes>"
            ],
            "image/png": "[encoded data removed]"
          },
          "metadata": {
            "needs_background": "light"
          }
        }
      ]
    },
    {
      "cell_type": "markdown",
      "source": [
        "## 3. Gradient descent -> theta\n",
        "* 선형회귀모델  \n",
        "$ h_\\theta(x) = \\theta_0 + \\theta_1x $\n",
        "\n",
        "* 경사 하강법 알고리즘  \n",
        "for j=0 and j=1 [  \n",
        "  $ \\theta_j $"
      ],
      "metadata": {
        "id": "gf22qVUlGyk9"
      }
    },
    {
      "cell_type": "code",
      "source": [
        "X_b = np.c_[np.ones((m,1)), X]\n",
        "# c_ : concatenation. 배열을 옆으로 붙이기\n",
        "\n",
        "learning_rate = 0.0001  #학습률(learning rate)\n",
        "n_iter = 200            #G.D의 횟수\n",
        "\n",
        "theta = np.zeros((2,1))\n",
        "gradients = np.zeros((2,1))\n",
        "\n",
        "for i in range(n_iter):\n",
        "  gradients = 2.0/m*X_b.T.dot(X_b.dot(theta)-y)\n",
        "  theta = theta - learning_rate * gradients\n",
        "print(\"theta:\")\n",
        "print(theta)"
      ],
      "metadata": {
        "colab": {
          "base_uri": "https://localhost:8080/"
        },
        "id": "ndzf1i8sG4uj",
        "outputId": "51f0c116-a8cd-4963-b9e7-cef5c4a45eea"
      },
      "execution_count": null,
      "outputs": [
        {
          "output_type": "stream",
          "name": "stdout",
          "text": [
            "theta:\n",
            "[[0.007878  ]\n",
            " [0.17556765]]\n"
          ]
        }
      ]
    },
    {
      "cell_type": "markdown",
      "source": [
        "##4. 집 크기 최소(10평)~최대(90평) *theta -> 그래프 그리기"
      ],
      "metadata": {
        "id": "LLike4JGJVr9"
      }
    },
    {
      "cell_type": "code",
      "source": [
        "X_new = np. array([[10], [90]])\n",
        "X_new_b = np.c_[np.ones((2,1)), X_new]\n",
        "y_predict = X_new_b.dot(theta)\n",
        "print(\"10평과 90평 집의 예측 가격\")\n",
        "print(y_predict)"
      ],
      "metadata": {
        "colab": {
          "base_uri": "https://localhost:8080/"
        },
        "id": "BpyYdagfJdPW",
        "outputId": "45d7e996-0499-4478-c655-3a3d175870ca"
      },
      "execution_count": null,
      "outputs": [
        {
          "output_type": "stream",
          "name": "stdout",
          "text": [
            "10평과 90평 집의 예측 가격\n",
            "[[ 1.76355445]\n",
            " [15.80896606]]\n"
          ]
        }
      ]
    },
    {
      "cell_type": "code",
      "source": [
        "plt.plot(X_new, y_predict, 'r-')\n",
        "plt.plot(X, y, 'b.')\n",
        "plt.xlabel(\"Size of a house in pyeon\")  #집 크기(10평)\n",
        "plt.ylabel(\"Price in uck-won\")          #매매가(억원)\n",
        "plt.show()"
      ],
      "metadata": {
        "colab": {
          "base_uri": "https://localhost:8080/",
          "height": 279
        },
        "id": "EAxmpXxTJ775",
        "outputId": "7e724164-54ae-425f-fc69-5aab617fc2e2"
      },
      "execution_count": null,
      "outputs": [
        {
          "output_type": "display_data",
          "data": {
            "text/plain": [
              "<Figure size 432x288 with 1 Axes>"
            ],
            "image/png": "[encoded data removed]"
          },
          "metadata": {
            "needs_background": "light"
          }
        }
      ]
    },
    {
      "cell_type": "markdown",
      "source": [
        "##5. 임의의 집 크기(x_my)에 대한 집값 예측하기"
      ],
      "metadata": {
        "id": "z0KWndqFKaPh"
      }
    },
    {
      "cell_type": "code",
      "source": [
        "X_mine = np.array([[25]]) #우리집이 25평 이라면, 얼마일까?\n",
        "X_mine_b = np.c_[np.ones((1,1)), X_mine] #모든 샘플에 x0=1을 추가\n",
        "y_predict = X_mine_b.dot(theta)\n",
        "print(y_predict, \"억원\")"
      ],
      "metadata": {
        "colab": {
          "base_uri": "https://localhost:8080/"
        },
        "id": "JhcSxJL6Kexl",
        "outputId": "aa193402-af2b-4fc9-dc1b-b309942bbe84"
      },
      "execution_count": null,
      "outputs": [
        {
          "output_type": "stream",
          "name": "stdout",
          "text": [
            "[[4.39706913]] 억원\n"
          ]
        }
      ]
    }
  ],
  "metadata": {
    "colab": {
      "provenance": [],
      "mount_file_id": "1-tn7kDRPivTbACyCL4wPVcbOiUEvRc9l",
      "authorship_tag": "ABX9TyOrQ4EXhVwwdFtPXqNGl/vl",
      "include_colab_link": true
    },
    "kernelspec": {
      "display_name": "Python 3",
      "name": "python3"
    },
    "language_info": {
      "name": "python"
    }
  },
  "nbformat": 4,
  "nbformat_minor": 0
}