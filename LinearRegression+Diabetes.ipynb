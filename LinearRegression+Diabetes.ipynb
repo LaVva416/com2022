{
  "nbformat": 4,
  "nbformat_minor": 0,
  "metadata": {
    "colab": {
      "provenance": [],
      "authorship_tag": "ABX9TyNjWDzyAiQpZXTLVN7vPfRk",
      "include_colab_link": true
    },
    "kernelspec": {
      "name": "python3",
      "display_name": "Python 3"
    },
    "language_info": {
      "name": "python"
    }
  },
  "cells": [
    {
      "cell_type": "markdown",
      "metadata": {
        "id": "view-in-github",
        "colab_type": "text"
      },
      "source": [
        "<a href=\"https://colab.research.google.com/github/LaVva416/com2022/blob/main/LinearRegression%2BDiabetes.ipynb\" target=\"_parent\"><img src=\"https://colab.research.google.com/assets/colab-badge.svg\" alt=\"Open In Colab\"/></a>"
      ]
    },
    {
      "cell_type": "markdown",
      "source": [
        "##(3) 다항 회귀 구현\n",
        "###1.데이터수집"
      ],
      "metadata": {
        "id": "2Ngb3CpiHZPy"
      }
    },
    {
      "cell_type": "code",
      "source": [
        "import numpy as np\n",
        "import matplotlib.pyplot as plt"
      ],
      "metadata": {
        "id": "DLJEYEqEGdj9"
      },
      "execution_count": null,
      "outputs": []
    },
    {
      "cell_type": "code",
      "execution_count": null,
      "metadata": {
        "id": "3Svapc8cFotl"
      },
      "outputs": [],
      "source": [
        "from sklearn.datasets import load_diabetes\n",
        "\n",
        "diabetes = load_diabetes()"
      ]
    },
    {
      "cell_type": "code",
      "source": [
        "print(diabetes.feature_names)\n",
        "print(diabetes.DESCR)\n",
        "\n",
        "print(diabetes[\"data\"].shape)  # x\n",
        "print(diabetes[\"target\"].shape)  # y"
      ],
      "metadata": {
        "colab": {
          "base_uri": "https://localhost:8080/"
        },
        "id": "aflDn39nG0Ms",
        "outputId": "45db394f-016f-44cc-e14d-20e86730bf43"
      },
      "execution_count": null,
      "outputs": [
        {
          "output_type": "stream",
          "name": "stdout",
          "text": [
            "['age', 'sex', 'bmi', 'bp', 's1', 's2', 's3', 's4', 's5', 's6']\n",
            ".. _diabetes_dataset:\n",
            "\n",
            "Diabetes dataset\n",
            "----------------\n",
            "\n",
            "Ten baseline variables, age, sex, body mass index, average blood\n",
            "pressure, and six blood serum measurements were obtained for each of n =\n",
            "442 diabetes patients, as well as the response of interest, a\n",
            "quantitative measure of disease progression one year after baseline.\n",
            "\n",
            "**Data Set Characteristics:**\n",
            "\n",
            "  :Number of Instances: 442\n",
            "\n",
            "  :Number of Attributes: First 10 columns are numeric predictive values\n",
            "\n",
            "  :Target: Column 11 is a quantitative measure of disease progression one year after baseline\n",
            "\n",
            "  :Attribute Information:\n",
            "      - age     age in years\n",
            "      - sex\n",
            "      - bmi     body mass index\n",
            "      - bp      average blood pressure\n",
            "      - s1      tc, total serum cholesterol\n",
            "      - s2      ldl, low-density lipoproteins\n",
            "      - s3      hdl, high-density lipoproteins\n",
            "      - s4      tch, total cholesterol / HDL\n",
            "      - s5      ltg, possibly log of serum triglycerides level\n",
            "      - s6      glu, blood sugar level\n",
            "\n",
            "Note: Each of these 10 feature variables have been mean centered and scaled by the standard deviation times `n_samples` (i.e. the sum of squares of each column totals 1).\n",
            "\n",
            "Source URL:\n",
            "https://www4.stat.ncsu.edu/~boos/var.select/diabetes.html\n",
            "\n",
            "For more information see:\n",
            "Bradley Efron, Trevor Hastie, Iain Johnstone and Robert Tibshirani (2004) \"Least Angle Regression,\" Annals of Statistics (with discussion), 407-499.\n",
            "(https://web.stanford.edu/~hastie/Papers/LARS/LeastAngle_2002.pdf)\n",
            "(442, 10)\n",
            "(442,)\n"
          ]
        }
      ]
    },
    {
      "cell_type": "code",
      "source": [
        "x,y = diabetes[\"data\"], diabetes[\"target\"]"
      ],
      "metadata": {
        "id": "YkBLrW5GHPAk"
      },
      "execution_count": null,
      "outputs": []
    },
    {
      "cell_type": "markdown",
      "source": [
        "###2. 특징 추출"
      ],
      "metadata": {
        "id": "qufdb-JALGuB"
      }
    },
    {
      "cell_type": "code",
      "source": [
        "from  sklearn.model_selection import train_test_split\n",
        "\n",
        "train_x, test_x, train_y, test_y = train_test_split(x, y, test_size=0.2)"
      ],
      "metadata": {
        "id": "MraMvCcSLNpR"
      },
      "execution_count": null,
      "outputs": []
    },
    {
      "cell_type": "code",
      "source": [
        "len(x), len(train_x), len(test_x), len(train_y), len(test_y)"
      ],
      "metadata": {
        "colab": {
          "base_uri": "https://localhost:8080/"
        },
        "id": "lNXW8NnELgg9",
        "outputId": "ab5b24b9-9564-4605-c4c0-d188ef06dc80"
      },
      "execution_count": null,
      "outputs": [
        {
          "output_type": "execute_result",
          "data": {
            "text/plain": [
              "(442, 353, 89, 353, 89)"
            ]
          },
          "metadata": {},
          "execution_count": 10
        }
      ]
    },
    {
      "cell_type": "markdown",
      "source": [
        "###3. 모델설계\n",
        "###4. Loss함수 결정\n",
        "###5. 훈련"
      ],
      "metadata": {
        "id": "YVgBJxYaLzGw"
      }
    },
    {
      "cell_type": "code",
      "source": [
        "from sklearn.linear_model import LinearRegression\n",
        "\n",
        "regressor = LinearRegression()\n",
        "regressor.fit(train_x, train_y)"
      ],
      "metadata": {
        "colab": {
          "base_uri": "https://localhost:8080/"
        },
        "id": "PERDs6tQL6IV",
        "outputId": "e62cf40a-56ed-4137-9507-6f486e7c9b73"
      },
      "execution_count": null,
      "outputs": [
        {
          "output_type": "execute_result",
          "data": {
            "text/plain": [
              "LinearRegression()"
            ]
          },
          "metadata": {},
          "execution_count": 11
        }
      ]
    },
    {
      "cell_type": "code",
      "source": [
        "regressor.coef_"
      ],
      "metadata": {
        "colab": {
          "base_uri": "https://localhost:8080/"
        },
        "id": "ZIn7H7glMHfJ",
        "outputId": "c8df746e-66e7-4e43-ab7b-77a0b95fe033"
      },
      "execution_count": null,
      "outputs": [
        {
          "output_type": "execute_result",
          "data": {
            "text/plain": [
              "array([ -55.62808855, -257.01547455,  517.25066637,  282.18570888,\n",
              "       -840.34480681,  524.57509637,  190.62840345,  273.61623773,\n",
              "        755.58994376,   95.32502478])"
            ]
          },
          "metadata": {},
          "execution_count": 12
        }
      ]
    },
    {
      "cell_type": "code",
      "source": [
        "train_pred = regressor.predict(train_x)\n",
        "test_pred = regressor.predict(test_x)\n",
        "print(train_pred, test_pred)                           "
      ],
      "metadata": {
        "colab": {
          "base_uri": "https://localhost:8080/"
        },
        "id": "dylcT2JSMKwb",
        "outputId": "4c648a9b-9e25-4267-f73b-35a22ad10bf5"
      },
      "execution_count": null,
      "outputs": [
        {
          "output_type": "stream",
          "name": "stdout",
          "text": [
            "[197.96521099 111.19750359 225.48759619 167.9688099   76.75080492\n",
            " 142.99449393 219.4779826  258.83411971  58.56457855 116.03578037\n",
            " 193.68854554 159.51342373 190.60730162 150.08939149 231.43729479\n",
            " 142.1733967  195.29902152 126.87414875 157.91568472 107.15947087\n",
            "  99.64127058  53.70340409 239.35166532  80.96194088  67.30781333\n",
            " 185.71500551 225.56524369 154.29764275  61.53997145 141.62446531\n",
            " 151.01316303  82.28608704 156.63799584 151.55438632 180.47075721\n",
            "  84.9199821  164.36703872 196.86070284  46.73612259 196.36639446\n",
            " 168.58470746  98.42571419 168.7862447  233.4252445   79.46729409\n",
            "  77.31391943  86.67313852 279.13352833  43.99107005 124.65912792\n",
            "  63.15828781 182.16115454  54.56765588 175.02063897 191.80883123\n",
            " 181.27635882 167.85923334 251.24910989 241.61738817 244.70424629\n",
            " 174.37995218 228.46729969 218.84052067 147.4342874  166.30771831\n",
            " 119.54060401  82.83167346 152.97897739 157.05036479  98.86091172\n",
            "  93.44241131 129.6892149  117.33539429 198.21085647 151.05092389\n",
            " 251.90928478 105.48092322 106.22127308  62.29337658  83.75470485\n",
            "  77.5055593  116.07013316 255.45390214 159.33169487 201.42351946\n",
            " 176.48717295 171.30350813 105.05233684 125.84853727 126.64548488\n",
            " 175.49203563 151.3359553  286.71716479 192.66682355 249.37437275\n",
            " 233.74313975 183.79376953 113.67320454 145.25255799  92.41679178\n",
            " 181.10759013 116.49748563 157.79423225 122.39462889  85.58660202\n",
            "  75.61742416 151.28110248 206.07775435 165.69709577 128.11102281\n",
            "  81.73464743 130.54126736 166.73574822 124.85243889 188.31599521\n",
            " 159.94696982 273.53196095 153.97572814 255.8506391  125.8877532\n",
            " 145.88787061  94.46852544 150.36799054 129.51597425 250.20962551\n",
            " 156.89056908 171.0770632  106.39383735 109.00170864 179.71063388\n",
            "  85.28262734  74.32052144  86.05827649 112.32082188 132.34167511\n",
            " 186.89843659 174.79135215 123.96234237 116.80735846 161.41673054\n",
            " 198.87259016 200.78671329 154.94502987 247.73587478 236.19978175\n",
            " 156.58427355 182.59334541 215.79415259 185.86186316  63.79030304\n",
            " 241.13312247 228.63366838 164.54341196 161.50587475 103.46988303\n",
            "  47.64293283 103.34859123 106.5104203  254.12767997  97.21953011\n",
            " 179.31080418 120.42227086 146.69574181 189.37307905 162.08017346\n",
            " 252.7661169  223.69582655 179.3135423  236.08141907 101.18413992\n",
            " 113.448064   175.31885389 146.04402745 162.44611513 117.38136574\n",
            " 222.34311971 101.04431425 120.337276   198.99425436 160.55829389\n",
            " 212.6341595  161.41901372 154.40984984 118.76752438 138.86620483\n",
            " 113.87544126 143.11476655 157.93499159 174.71337049 110.9984765\n",
            " 245.97887192 144.59081931 199.50964884  88.52767636 118.69125073\n",
            "  93.09474426 121.97113126 169.03856611  38.56176798 244.57703948\n",
            " 219.73615969 174.73513362 185.46055865 197.10346021 191.68118989\n",
            " 174.51053285 125.35091928 104.40124623 194.14013559 210.43782342\n",
            " 207.50819053 138.71801092 148.97758476 143.80160005 185.3253715\n",
            " 202.27121234 125.41105788 164.04188532 183.51596982  55.29137831\n",
            " 151.81786373 121.50024762  71.38703775 147.1667497  153.53467941\n",
            " 141.29153939  86.65264776  76.31555597 118.88457173  74.15507726\n",
            " 219.8538032  140.0450882   89.51532242 199.44183061 116.79852943\n",
            " 262.06985869 155.09613328  94.19369495 147.20573872  71.30911725\n",
            "  69.5606259  204.1951053  103.04502155 162.4830341  122.60779382\n",
            " 224.12239419  53.23466418  36.1487417  143.34158812  63.51964673\n",
            " 159.19898641 202.89289061 113.14183303 157.33392575 156.11946296\n",
            " 261.81784266 123.97145434 180.69005466 241.58469784 221.785971\n",
            "  67.22301444 261.42406891 114.01224496 143.65912477 230.79417013\n",
            " 169.00125244 214.48645344 210.35316289 119.04477957 287.10877157\n",
            " 186.78239198 231.08527237 200.08945026  78.94238247 215.77561749\n",
            " 226.29103194 150.2666369  203.66701347 193.94427641 285.57159471\n",
            " 116.18813168 205.542649   216.80667437 127.14548745 245.27210303\n",
            " 105.80049604 281.86109511 177.96348631 148.24781645 200.48852505\n",
            "  97.69633699  91.2531289  153.42162586  81.99329862 119.21643406\n",
            " 103.31892253 220.07822997 165.22981495 132.79968617 135.73023581\n",
            " 143.03923546  84.90457456 153.48445287 117.9764958  164.8077431\n",
            "  65.6207255  221.14734209 162.39151209  55.86380657  77.04574805\n",
            " 223.65843211 182.96409733  77.93825183 160.83156683 142.96845669\n",
            " 208.82304906 191.65986394 179.3801029   95.25023917 141.20862489\n",
            " 159.91358054 192.29970507 141.99152674 175.22679193 128.14710006\n",
            " 100.52718429 161.70385566 150.94653372 101.13376237  81.34617165\n",
            " 162.74686505 106.16024018 169.475279   107.13180181 148.97623523\n",
            "  57.12732654  72.0857444  113.82757193 255.22523624  80.62185692\n",
            " 187.07760584 113.08858493 185.1403353  127.07883233 196.39868951\n",
            "  88.47598451 173.87311752 145.27633921 248.20590895 123.18022193\n",
            "  68.53407119 206.94375556 214.93870179] [177.41933558 108.49688997 210.94195245 195.4432332  112.03076272\n",
            " 119.24150997  67.93271183  47.35368537 133.29322455 207.33618736\n",
            " 225.21641088 200.02721167 121.19035895  94.04817617 190.50466897\n",
            "  92.08231187 224.0076841  185.43623983 154.94738071  82.19671915\n",
            " 156.4919664  186.14685077  99.01205866 176.59856253 122.12710133\n",
            " 123.51653462 155.01766833 131.15131657 133.3212152  100.73933444\n",
            " 176.30630578 180.98168697 167.36353647 128.2824232  125.72150909\n",
            " 111.98937147 172.64439611 141.44373461 131.63396773 138.62144123\n",
            "  70.18862647 116.3413015  230.95441261 205.78848397 101.73281701\n",
            " 154.85697756 114.7201881  262.80889316 121.07993882 148.59999505\n",
            " 164.07948118 260.29040775 174.68512291 234.62290443  93.64851283\n",
            " 171.48565219 190.76441099 147.82787177 229.80194825 106.0894926\n",
            " 134.25533164 168.64754854  88.90460561 170.72490547 147.55648756\n",
            " 113.84404928  99.29026442 168.93265025 216.92994051 147.84752041\n",
            " 216.8745801   96.36659396  89.41087519 243.17135694 179.05446582\n",
            " 229.9166026  157.07651927 204.15849384 158.23355209 111.55160773\n",
            "  87.66480524 270.29576922  84.2751847  192.7280466   70.26653572\n",
            " 137.94362176  68.40358677 103.43032417  64.07333114]\n"
          ]
        }
      ]
    },
    {
      "cell_type": "markdown",
      "source": [
        "###5. 훈련"
      ],
      "metadata": {
        "id": "4xFf4VYTMiBv"
      }
    },
    {
      "cell_type": "code",
      "source": [
        "from sklearn.metrics import mean_squared_error\n",
        "\n",
        "train_mse=mean_squared_error(train_pred, train_y)\n",
        "test_mse=mean_squared_error(test_pred, test_y)\n",
        "print(train_mse, test_mse)"
      ],
      "metadata": {
        "colab": {
          "base_uri": "https://localhost:8080/"
        },
        "id": "rsXQwmjpMjje",
        "outputId": "cd299a67-6cc9-41d0-92e3-d886e930dcbf"
      },
      "execution_count": null,
      "outputs": [
        {
          "output_type": "stream",
          "name": "stdout",
          "text": [
            "2835.2129461032905 3049.317834212888\n"
          ]
        }
      ]
    },
    {
      "cell_type": "code",
      "source": [],
      "metadata": {
        "id": "yWpIeiqQM4d_"
      },
      "execution_count": null,
      "outputs": []
    }
  ]
}